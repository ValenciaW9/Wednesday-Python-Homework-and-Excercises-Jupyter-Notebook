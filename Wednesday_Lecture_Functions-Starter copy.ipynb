{
 "cells": [
  {
   "cell_type": "markdown",
   "metadata": {},
   "source": [
    "# Functions"
   ]
  },
  {
   "cell_type": "markdown",
   "metadata": {},
   "source": [
    "#### Warm up"
   ]
  },
  {
   "cell_type": "code",
   "execution_count": 6,
   "metadata": {},
   "outputs": [],
   "source": [
    "bands = ['  thE beATles   ', 'tHe RoLLing sTones..', '.,tHe eagles', 'the tEMptationS  ']\n"
   ]
  },
  {
   "cell_type": "code",
   "execution_count": 57,
   "metadata": {},
   "outputs": [
    {
     "name": "stdout",
     "output_type": "stream",
     "text": [
      "['The Beatles', 'The Rolling Stones', 'The Eagles', 'The Temptations']\n",
      "['The Who', 'The Doors', 'The Band', 'The Kinks']\n"
     ]
    }
   ],
   "source": [
    "def format_bands(bands_list):\n",
    "    formatted_bands = []\n",
    "    for band in bands_list:\n",
    "        # Remove leading/trailing whitespace and punctuation\n",
    "        band = band.strip(' .,').title()\n",
    "        # Add to list\n",
    "        formatted_bands.append(band)\n",
    "    return formatted_bands\n",
    "\n",
    "# Example usage\n",
    "bands = ['  thE beATles   ', 'tHe RoLLing sTones..', '.,tHe eagles', 'the tEMptationS  ']\n",
    "formatted_bands = format_bands(bands)\n",
    "print(formatted_bands)  # Output: ['The Beatles', 'The Rolling Stones', 'The Eagles', 'The Temptations']\n",
    "\n",
    "bands2 = [' The whO  ', '  .   , tHE dOORS  ', ' the bAnd   ', '...,  THE kINks    ']\n",
    "formatted_bands2 = format_bands(bands2)\n",
    "print(formatted_bands2)  # Output: ['The Who', 'The Doors', 'The Band', 'The Kinks']\n"
   ]
  },
  {
   "cell_type": "code",
   "execution_count": 58,
   "metadata": {},
   "outputs": [
    {
     "name": "stdout",
     "output_type": "stream",
     "text": [
      "['The Who', 'The Doors', 'The Band', 'The Kinks']\n"
     ]
    }
   ],
   "source": [
    "def format_bands(bands_list):\n",
    "    formatted_bands = []\n",
    "    for band in bands_list:\n",
    "        # Remove leading/trailing whitespace and punctuation\n",
    "        band = band.strip(' .,').title()\n",
    "        # Check for duplicate words\n",
    "        band_words = band.split()\n",
    "        unique_words = []\n",
    "        for word in band_words:\n",
    "            if word not in unique_words:\n",
    "                unique_words.append(word)\n",
    "        # Re-join the unique words into a single string\n",
    "        formatted_band = ' '.join(unique_words)\n",
    "        # Add to list\n",
    "        formatted_bands.append(formatted_band)\n",
    "    return formatted_bands\n",
    "\n",
    "# Example usage\n",
    "bands2 = [' The whO  ', '  .   , tHE dOORS  ', ' the bAnd   ', '...,  THE kINks    ']\n",
    "formatted_bands2 = format_bands(bands2)\n",
    "print(formatted_bands2)  # Output: ['The Who', 'The Doors', 'The Band', 'The Kinks']\n"
   ]
  },
  {
   "cell_type": "markdown",
   "metadata": {},
   "source": [
    "## Functions"
   ]
  },
  {
   "cell_type": "markdown",
   "metadata": {},
   "source": [
    "##### User-Defined vs. Built-In Function"
   ]
  },
  {
   "cell_type": "code",
   "execution_count": 19,
   "metadata": {},
   "outputs": [
    {
     "name": "stdout",
     "output_type": "stream",
     "text": [
      "<built-in function max>\n",
      "Help on built-in function max in module builtins:\n",
      "\n",
      "max(...)\n",
      "    max(iterable, *[, default=obj, key=func]) -> value\n",
      "    max(arg1, arg2, *args, *[, key=func]) -> value\n",
      "    \n",
      "    With a single iterable argument, return its biggest item. The\n",
      "    default keyword-only argument specifies an object to return if\n",
      "    the provided iterable is empty.\n",
      "    With two or more arguments, return the largest argument.\n",
      "\n"
     ]
    }
   ],
   "source": [
    "# Built-in functions\n",
    "print(max)\n",
    "help(max)"
   ]
  },
  {
   "cell_type": "code",
   "execution_count": 20,
   "metadata": {},
   "outputs": [
    {
     "name": "stdout",
     "output_type": "stream",
     "text": [
      "<function say_hello at 0x106f943a0>\n"
     ]
    },
    {
     "data": {
      "text/plain": [
       "<function __main__.say_hello()>"
      ]
     },
     "execution_count": 20,
     "metadata": {},
     "output_type": "execute_result"
    }
   ],
   "source": [
    "# User Defined Function\n",
    "# Syntax: def function_name():\n",
    "#             <CODE TO EXECUTE>\n",
    "\n",
    "# Creating a function\n",
    "def say_hello(): # defining the function\n",
    "    print('Hello!')\n",
    "\n",
    "print(say_hello)\n",
    "say_hello"
   ]
  },
  {
   "cell_type": "code",
   "execution_count": 21,
   "metadata": {
    "scrolled": true
   },
   "outputs": [
    {
     "name": "stdout",
     "output_type": "stream",
     "text": [
      "Help on function say_hello in module __main__:\n",
      "\n",
      "say_hello()\n",
      "    # Creating a function\n",
      "\n"
     ]
    }
   ],
   "source": [
    "help(say_hello)"
   ]
  },
  {
   "cell_type": "code",
   "execution_count": 23,
   "metadata": {},
   "outputs": [
    {
     "name": "stdout",
     "output_type": "stream",
     "text": [
      "Help on function say_hello in module __main__:\n",
      "\n",
      "say_hello()\n",
      "    # Creating a function\n",
      "\n"
     ]
    }
   ],
   "source": [
    "help(say_hello)"
   ]
  },
  {
   "cell_type": "code",
   "execution_count": 22,
   "metadata": {},
   "outputs": [
    {
     "name": "stdout",
     "output_type": "stream",
     "text": [
      "Before the function is called\n",
      "Hello!\n",
      "After the function is called\n"
     ]
    }
   ],
   "source": [
    "# Executing a function\n",
    "# Syntax: function_name()\n",
    "\n",
    "print('Before the function is called')\n",
    "say_hello() # executing the function -- don't forget the ()\n",
    "print('After the function is called')"
   ]
  },
  {
   "cell_type": "markdown",
   "metadata": {},
   "source": [
    "##### Accepting Parameters"
   ]
  },
  {
   "cell_type": "code",
   "execution_count": 24,
   "metadata": {
    "scrolled": false
   },
   "outputs": [
    {
     "name": "stdout",
     "output_type": "stream",
     "text": [
      "Hello Brian Stanton!\n",
      "Hello Stanton Brian!\n"
     ]
    }
   ],
   "source": [
    "# Syntax: def function_name(arg1, arg2):\n",
    "#             <CODE TO EXECUTE>\n",
    "\n",
    "def say_hello(first, last): # <- first and last are paramaters (the placeholders)\n",
    "    print(f'Hello {first} {last}!')\n",
    "\n",
    "    \n",
    "# Execute\n",
    "# Syntax: function_name(data1, data2)\n",
    "say_hello('Brian', 'Stanton') # <- 'Brian' and 'Stanton' are arguments (the data passed in)\n",
    "say_hello('Stanton', 'Brian')"
   ]
  },
  {
   "cell_type": "code",
   "execution_count": 30,
   "metadata": {
    "scrolled": false
   },
   "outputs": [
    {
     "name": "stdout",
     "output_type": "stream",
     "text": [
      "Hello again, Stanton Brian!\n"
     ]
    }
   ],
   "source": [
    "def say_hello_again(first_name, last_name):\n",
    "    return f\"Hello again, {first_name} {last_name}!\"\n",
    "    \n",
    "print(say_hello_again('Stanton','Brian'))\n",
    "\n"
   ]
  },
  {
   "cell_type": "markdown",
   "metadata": {},
   "source": [
    "##### Passing in variables as parameters"
   ]
  },
  {
   "cell_type": "code",
   "execution_count": 27,
   "metadata": {},
   "outputs": [
    {
     "name": "stdout",
     "output_type": "stream",
     "text": [
      "Boston, MA, 02215\n",
      "New York, NY, 10451\n"
     ]
    }
   ],
   "source": [
    "city1 = 'Boston'\n",
    "state1 = 'MA'\n",
    "zip_code1 = '02215'\n",
    "city2 = 'New York'\n",
    "state2 = 'NY'\n",
    "zip_code2 = '10451'\n",
    "\n",
    "\n",
    "def format_address(city_name, state_name, zipcode):\n",
    "    print(f'{city_name}, {state_name}, {zipcode}')\n",
    "    \n",
    "    \n",
    "format_address(city1, state1, zip_code1)\n",
    "format_address(city2, state2, zip_code2)"
   ]
  },
  {
   "cell_type": "markdown",
   "metadata": {},
   "source": [
    "##### Keyword Arguments"
   ]
  },
  {
   "cell_type": "code",
   "execution_count": 31,
   "metadata": {},
   "outputs": [
    {
     "name": "stdout",
     "output_type": "stream",
     "text": [
      "You have made a payment of $100 to Account #137472.\n",
      "Your new balance due is $900\n",
      "Thank you for the payment\n"
     ]
    }
   ],
   "source": [
    "def make_a_payment(total_amount_due, amount_paid, account_number):\n",
    "    new_total = total_amount_due - amount_paid\n",
    "    print(f'You have made a payment of ${amount_paid} to Account #{account_number}.')\n",
    "    print(f'Your new balance due is ${new_total}')\n",
    "    print('Thank you for the payment')\n",
    "    \n",
    "    \n",
    "make_a_payment(account_number='137472', total_amount_due=1000, amount_paid=100)"
   ]
  },
  {
   "cell_type": "code",
   "execution_count": 32,
   "metadata": {},
   "outputs": [
    {
     "name": "stdout",
     "output_type": "stream",
     "text": [
      "You have made a payment of $100 to Account #137472.\n",
      "Your new balance due is $900\n",
      "Thank you for the payment\n"
     ]
    }
   ],
   "source": [
    "make_a_payment(1000, 100, '137472')"
   ]
  },
  {
   "cell_type": "markdown",
   "metadata": {},
   "source": [
    "##### Default Parameters"
   ]
  },
  {
   "cell_type": "code",
   "execution_count": 33,
   "metadata": {
    "scrolled": true
   },
   "outputs": [
    {
     "name": "stdout",
     "output_type": "stream",
     "text": [
      "Thank you Brian. Here is your receipt:\n",
      "1 Hamburger\n",
      "\twith cheese\n",
      "\twith lettuce\n",
      "\twith tomato\n",
      "Total: $4.50\n"
     ]
    }
   ],
   "source": [
    "# default parameters need to be AFTER non-default parameters at all times\n",
    "\n",
    "def make_a_burger(customer_name, cheese=True, lettuce=True, tomato=True, onions=None):\n",
    "    total_price = 4.50\n",
    "    message = f'Thank you {customer_name}. Here is your receipt:\\n'\n",
    "    message += '1 Hamburger\\n'\n",
    "    if cheese:\n",
    "        message += '\\twith cheese\\n'\n",
    "    if lettuce:\n",
    "        message += '\\twith lettuce\\n'\n",
    "    if tomato:\n",
    "        message += '\\twith tomato\\n'\n",
    "    if onions:\n",
    "        message += f'\\twith {onions} onions\\n'\n",
    "        total_price += .50\n",
    "    message += f'Total: ${total_price:.2f}'\n",
    "    print(message)\n",
    "\n",
    "    \n",
    "make_a_burger('Brian')"
   ]
  },
  {
   "cell_type": "code",
   "execution_count": 34,
   "metadata": {},
   "outputs": [
    {
     "name": "stdout",
     "output_type": "stream",
     "text": [
      "Thank you Claire. Here is your receipt:\n",
      "1 Hamburger\n",
      "Total: $4.50\n"
     ]
    }
   ],
   "source": [
    "make_a_burger('Claire', False, False, False)"
   ]
  },
  {
   "cell_type": "code",
   "execution_count": 35,
   "metadata": {},
   "outputs": [
    {
     "name": "stdout",
     "output_type": "stream",
     "text": [
      "Thank you David. Here is your receipt:\n",
      "1 Hamburger\n",
      "\twith cheese\n",
      "\twith lettuce\n",
      "\twith tomato\n",
      "\twith grilled onions\n",
      "Total: $5.00\n"
     ]
    }
   ],
   "source": [
    "make_a_burger('David', onions='grilled')"
   ]
  },
  {
   "cell_type": "markdown",
   "metadata": {},
   "source": [
    "##### \\*args and **kwargs"
   ]
  },
  {
   "cell_type": "code",
   "execution_count": 36,
   "metadata": {},
   "outputs": [
    {
     "name": "stdout",
     "output_type": "stream",
     "text": [
      "a\n",
      "b\n",
      "('c', 'd', 'e', 'f')\n",
      "<class 'tuple'>\n",
      "{'key': 'value', 'num': 10}\n",
      "<class 'dict'>\n"
     ]
    }
   ],
   "source": [
    "def my_function(arg1, arg2, *args, **kwargs):\n",
    "    print(arg1)\n",
    "    print(arg2)\n",
    "    print(args)\n",
    "    print(type(args))\n",
    "    print(kwargs)\n",
    "    print(type(kwargs))\n",
    "    \n",
    "    \n",
    "my_function('a', 'b', 'c', 'd', 'e', 'f', key='value', num=10)"
   ]
  },
  {
   "cell_type": "code",
   "execution_count": 7,
   "metadata": {
    "scrolled": true
   },
   "outputs": [
    {
     "name": "stdout",
     "output_type": "stream",
     "text": [
      "92.75\n"
     ]
    }
   ],
   "source": [
    "def average(nums):\n",
    "    total = 0\n",
    "    for num in nums:\n",
    "        total += num\n",
    "    return total / len(nums)\n",
    "\n",
    "avg = average([89, 99, 91, 92])\n",
    "print(avg)\n"
   ]
  },
  {
   "cell_type": "code",
   "execution_count": 15,
   "metadata": {},
   "outputs": [
    {
     "name": "stdout",
     "output_type": "stream",
     "text": [
      "Arg1: a\n",
      "Args: ('b', 'c', 'd', 'e')\n",
      "Arg2: 20\n"
     ]
    }
   ],
   "source": [
    "def my_function(arg1=10, *args, arg2=0):\n",
    "    print('Arg1:', arg1)\n",
    "    print('Args:', args)\n",
    "    print('Arg2:', arg2)\n",
    "\n",
    "my_function('a', 'b', 'c', 'd', 'e', arg2=20)\n"
   ]
  },
  {
   "cell_type": "code",
   "execution_count": 11,
   "metadata": {},
   "outputs": [
    {
     "name": "stdout",
     "output_type": "stream",
     "text": [
      "Arg1: a\n",
      "Args: ('b', 'c', 'd')\n"
     ]
    }
   ],
   "source": [
    "def my_function(arg1, *args):\n",
    "    print('Arg1:', arg1)\n",
    "    print('Args:', args)\n",
    "\n",
    "my_function('a', 'b', 'c', 'd')\n"
   ]
  },
  {
   "cell_type": "markdown",
   "metadata": {},
   "source": [
    "#### In Class Exercise 1"
   ]
  },
  {
   "cell_type": "markdown",
   "metadata": {},
   "source": [
    "Create a function that takes in a color, make, and model and formats it into a string.<br>\n",
    "Then loop over the cars list and apply the function to each element.<br>\n",
    "Expected Output:<br>\n",
    "<code>Blue Toyota Tundra\n",
    "Green Chevy Silverado\n",
    "Pink Ford F-150</code>\n"
   ]
  },
  {
   "cell_type": "code",
   "execution_count": 37,
   "metadata": {},
   "outputs": [
    {
     "name": "stdout",
     "output_type": "stream",
     "text": [
      "Blue Toyota Tundra\n",
      "Green Chevy Silverado\n",
      "Pink Ford F-150\n"
     ]
    }
   ],
   "source": [
    "def format_car(color, make, model):\n",
    "    return f\"{color.title()} {make.title()} {model.title()}\"\n",
    "\n",
    "cars = [('blue', 'toyota', 'tundra'), ('green', 'chevy', 'silverado'), ('pink', 'ford', 'f-150')]\n",
    "\n",
    "for car in cars:\n",
    "    print(format_car(*car))\n"
   ]
  },
  {
   "cell_type": "code",
   "execution_count": 19,
   "metadata": {},
   "outputs": [
    {
     "name": "stdout",
     "output_type": "stream",
     "text": [
      "Blue Toyota Tundra\n",
      "Green Chevy Silverado\n",
      "Pink Ford F-150\n"
     ]
    }
   ],
   "source": [
    "def format_car(color, make, model):\n",
    "    return f\"{color.title()} {make.title()} {model.title()}\"\n",
    "\n",
    "cars = [('blue', 'toyota', 'tundra'), ('green', 'chevy', 'silverado'), ('pink', 'ford', 'f-150')]\n",
    "\n",
    "for car in cars:\n",
    "    print(format_car(*car))\n"
   ]
  },
  {
   "cell_type": "code",
   "execution_count": 20,
   "metadata": {},
   "outputs": [
    {
     "name": "stdout",
     "output_type": "stream",
     "text": [
      "Blue Toyota Tundra\n",
      "Green Chevy Silverado\n",
      "Pink Ford F-150\n"
     ]
    }
   ],
   "source": [
    "def format_car(color, make, model):\n",
    "    return f\"{color.title()} {make.title()} {model.title()}\"\n",
    "\n",
    "cars = [('blue', 'toyota', 'tundra'), ('green', 'chevy', 'silverado'), ('pink', 'ford', 'f-150')]\n",
    "\n",
    "for car in cars:\n",
    "    print(format_car(*car))\n"
   ]
  },
  {
   "cell_type": "markdown",
   "metadata": {},
   "source": [
    "## Scope <br>\n",
    "<p>Scope refers to the ability to access variables, different types of scope include:<br>a) Global<br>b) Function (local)<br>c) Class (local)</p>"
   ]
  },
  {
   "cell_type": "code",
   "execution_count": 21,
   "metadata": {},
   "outputs": [
    {
     "name": "stdout",
     "output_type": "stream",
     "text": [
      "Jimmy Smith\n",
      "Little Jimmy has been assigned to Ms. Buttercup's class\n"
     ]
    }
   ],
   "source": [
    "student = 'Little Jimmy'\n",
    "teacher = 'Ms. Buttercup'\n",
    "\n",
    "def assign_student(student_name):\n",
    "    student = \"Jimmy Smith\"\n",
    "    print(student)\n",
    "    print(f\"{student_name} has been assigned to {teacher}'s class\")\n",
    "\n",
    "\n",
    "assign_student(student)\n",
    "# print(student_name)"
   ]
  },
  {
   "cell_type": "code",
   "execution_count": 36,
   "metadata": {},
   "outputs": [],
   "source": [
    "even_only = []\n",
    "\n",
    "def get_only_evens(list_of_nums):\n",
    "    for num in list_of_nums:\n",
    "        if num % 2 == 0:\n",
    "            even_only.append(num)\n",
    "    return even_only\n"
   ]
  },
  {
   "cell_type": "code",
   "execution_count": 37,
   "metadata": {
    "scrolled": true
   },
   "outputs": [
    {
     "name": "stdout",
     "output_type": "stream",
     "text": [
      "[2, 4, 6, 8, 10]\n"
     ]
    }
   ],
   "source": [
    "def get_only_evens(list_of_nums):\n",
    "    even_only = []\n",
    "    for num in list_of_nums:\n",
    "        if num % 2 == 0:\n",
    "            even_only.append(num)\n",
    "    return even_only\n",
    "\n",
    "print(get_only_evens([1, 2, 3, 4, 5, 6, 7, 8, 9, 10]))\n"
   ]
  },
  {
   "cell_type": "code",
   "execution_count": 38,
   "metadata": {},
   "outputs": [],
   "source": [
    "even_only = []\n",
    "\n",
    "def get_only_evens(list_of_nums):\n",
    "    for num in list_of_nums:\n",
    "        if num % 2 == 0:\n",
    "            even_only.append(num)\n",
    "    return even_only\n",
    "\n",
    "evens1 = get_only_evens([1, 2, 3, 4, 5, 6, 7, 8, 9, 10])\n",
    "evens2 = get_only_evens([10, 15, 20, 25, 30, 15, 40])\n"
   ]
  },
  {
   "cell_type": "code",
   "execution_count": 33,
   "metadata": {},
   "outputs": [
    {
     "name": "stdout",
     "output_type": "stream",
     "text": [
      "<built-in method append of list object at 0x10705bfc0>\n"
     ]
    }
   ],
   "source": [
    "my_list = [1,2,3,4,5]\n",
    "print(my_list.append)"
   ]
  },
  {
   "cell_type": "code",
   "execution_count": 39,
   "metadata": {
    "scrolled": true
   },
   "outputs": [
    {
     "data": {
      "text/plain": [
       "<function list.append(object, /)>"
      ]
     },
     "execution_count": 39,
     "metadata": {},
     "output_type": "execute_result"
    }
   ],
   "source": [
    "my_list.append"
   ]
  },
  {
   "cell_type": "markdown",
   "metadata": {},
   "source": [
    "##### Returning Values"
   ]
  },
  {
   "cell_type": "code",
   "execution_count": 39,
   "metadata": {},
   "outputs": [
    {
     "name": "stdout",
     "output_type": "stream",
     "text": [
      "10\n"
     ]
    }
   ],
   "source": [
    "# Mathematical Function - y = f(x)\n",
    "# Where f is the function, x is the input(s), and y is the dependent variable (or the return variable)\n",
    "# Mathematical Function - y = f(x)\n",
    "# Where f is the function, x is the input(s), and y is the dependent variable (or the return variable)\n",
    "\n",
    "def f(x):\n",
    "    return 2 * x\n",
    "\n",
    "y = f(5)\n",
    "print(y)"
   ]
  },
  {
   "cell_type": "code",
   "execution_count": 40,
   "metadata": {},
   "outputs": [],
   "source": [
    "z = f(10)"
   ]
  },
  {
   "cell_type": "code",
   "execution_count": 41,
   "metadata": {},
   "outputs": [
    {
     "name": "stdout",
     "output_type": "stream",
     "text": [
      "20 400\n"
     ]
    }
   ],
   "source": [
    "print(z, z**2)"
   ]
  },
  {
   "cell_type": "code",
   "execution_count": 43,
   "metadata": {
    "scrolled": true
   },
   "outputs": [
    {
     "data": {
      "text/plain": [
       "0"
      ]
     },
     "execution_count": 43,
     "metadata": {},
     "output_type": "execute_result"
    }
   ],
   "source": [
    "# Return will also immediately terminates the function\n",
    "\n",
    "def early_return(n):\n",
    "    for i in range(n):\n",
    "        return i\n",
    "    \n",
    "    \n",
    "early_return(1000)"
   ]
  },
  {
   "cell_type": "code",
   "execution_count": 45,
   "metadata": {},
   "outputs": [
    {
     "data": {
      "text/plain": [
       "0"
      ]
     },
     "execution_count": 45,
     "metadata": {},
     "output_type": "execute_result"
    }
   ],
   "source": [
    "def early_return_again(n):\n",
    "    for x in range(n):\n",
    "        return x\n",
    "    print('Hello World!')\n",
    "    \n",
    "    \n",
    "early_return_again(10)"
   ]
  },
  {
   "cell_type": "code",
   "execution_count": 44,
   "metadata": {},
   "outputs": [
    {
     "name": "stdout",
     "output_type": "stream",
     "text": [
      "20 400\n"
     ]
    }
   ],
   "source": [
    "def f(x):\n",
    "    return x * 2\n",
    "\n",
    "z = f(10)\n",
    "print(z, z**2)\n"
   ]
  },
  {
   "cell_type": "raw",
   "metadata": {},
   "source": [
    "# returns will also immediately terminate the function\n",
    "def early_return (n):\n",
    " for i in range(n):\n",
    " for i in range (n):\n",
    "   return 0\n",
    "   \n",
    "   early_return (10)"
   ]
  },
  {
   "cell_type": "code",
   "execution_count": 43,
   "metadata": {},
   "outputs": [],
   "source": [
    "def another_example(n):\n",
    "    for i in range(n):\n",
    "        if i== 5:\n",
    "            return i\n",
    "        print(i)\n",
    "        print('This is after the for loop')\n",
    "        another_ecample(10)"
   ]
  },
  {
   "cell_type": "code",
   "execution_count": null,
   "metadata": {},
   "outputs": [],
   "source": [
    "name=('Brian','Danielle', 'Frank', 'Tim' , 'hannah',joanna', 'james]\n",
    "      def get a_person(person_name\n",
    "                       for name in name\n",
    "                      if name==person_name:\n",
    "                      print(name)\n",
    "                      return name\n",
    "                      return 'Not a person'\n",
    "                      return 'Not a person\n",
    "                       \n",
    "                       \n",
    "                       geta_person ('Mike)')')"
   ]
  },
  {
   "cell_type": "markdown",
   "metadata": {},
   "source": [
    "#### Multiple returns in a function"
   ]
  },
  {
   "cell_type": "code",
   "execution_count": 46,
   "metadata": {},
   "outputs": [
    {
     "name": "stdout",
     "output_type": "stream",
     "text": [
      "False\n",
      "True\n"
     ]
    }
   ],
   "source": [
    "def can_vote(birth_year):\n",
    "    if 2022 - birth_year >= 18:\n",
    "        return True\n",
    "    else:\n",
    "        return False\n",
    "    \n",
    "    \n",
    "print(can_vote(2005))\n",
    "print(can_vote(2000))"
   ]
  },
  {
   "cell_type": "markdown",
   "metadata": {},
   "source": [
    "##### Difference between `return` and `print`"
   ]
  },
  {
   "cell_type": "code",
   "execution_count": 47,
   "metadata": {
    "scrolled": true
   },
   "outputs": [
    {
     "name": "stdout",
     "output_type": "stream",
     "text": [
      "Dogs -- Still Good!\n",
      "None by Brian: Way better than cats!\n"
     ]
    }
   ],
   "source": [
    "def create_headline_print(message):\n",
    "    print(message.strip().title() + '!')\n",
    "    \n",
    "def create_headline_return(message):\n",
    "    return message.strip().title() + '!'\n",
    "\n",
    "\n",
    "def publish_article(headline, author, body):\n",
    "    clean_headline = create_headline_print(headline)\n",
    "    \n",
    "    print(f'{clean_headline} by {author}: {body}')\n",
    "    \n",
    "publish_article('   dogs -- still good  ', 'Brian', 'Way better than cats!')"
   ]
  },
  {
   "cell_type": "code",
   "execution_count": 48,
   "metadata": {},
   "outputs": [
    {
     "data": {
      "text/plain": [
       "<function __main__.clean_names(list_of_names)>"
      ]
     },
     "execution_count": 48,
     "metadata": {},
     "output_type": "execute_result"
    }
   ],
   "source": [
    "def clean_names(list_of_names):\n",
    "    output_list = []\n",
    "    for n in list_of_names:\n",
    "        clean_name = n.strip().title()\n",
    "        output_list.append(clean_name)\n",
    "    return output_list\n",
    "\n",
    "\n",
    "clean_names"
   ]
  },
  {
   "cell_type": "code",
   "execution_count": 49,
   "metadata": {},
   "outputs": [
    {
     "name": "stdout",
     "output_type": "stream",
     "text": [
      "['John Lennon', 'Paul Mccartney', 'George Harrison', 'Ringo Starr']\n"
     ]
    }
   ],
   "source": [
    "messy_beatles = ['   joHN lENNon  ', '  PaUL MCCartNEy ', '  gEORge HARRisOn     ', '   rInGo STarr   ']\n",
    "\n",
    "clean_beatles = clean_names(messy_beatles)\n",
    "print(clean_beatles)"
   ]
  },
  {
   "cell_type": "markdown",
   "metadata": {},
   "source": [
    "#### Functions with Lists"
   ]
  },
  {
   "cell_type": "code",
   "execution_count": 50,
   "metadata": {},
   "outputs": [
    {
     "data": {
      "text/plain": [
       "<function __main__.clean_names(list_of_names)>"
      ]
     },
     "execution_count": 50,
     "metadata": {},
     "output_type": "execute_result"
    }
   ],
   "source": [
    "def clean_names(list_of_names):\n",
    "    output_list = []\n",
    "    for n in list_of_names:\n",
    "        clean_name = n.strip().title()\n",
    "        output_list.append(clean_name)\n",
    "    return output_list\n",
    "\n",
    "\n",
    "clean_names"
   ]
  },
  {
   "cell_type": "code",
   "execution_count": 51,
   "metadata": {},
   "outputs": [
    {
     "name": "stdout",
     "output_type": "stream",
     "text": [
      "['John Lennon', 'Paul Mccartney', 'George Harrison', 'Ringo Starr']\n"
     ]
    }
   ],
   "source": [
    "messy_beatles = ['   joHN lENNon  ', '  PaUL MCCartNEy ', '  gEORge HARRisOn     ', '   rInGo STarr   ']\n",
    "\n",
    "clean_beatles = clean_names(messy_beatles)\n",
    "print(clean_beatles)"
   ]
  },
  {
   "cell_type": "code",
   "execution_count": 52,
   "metadata": {
    "scrolled": true
   },
   "outputs": [
    {
     "name": "stdout",
     "output_type": "stream",
     "text": [
      "['John Lennon', 'Paul Mccartney', 'George Harrison', 'Ringo Starr']\n"
     ]
    }
   ],
   "source": [
    "messy_beatles = ['   joHN lENNon  ', '  PaUL MCCartNEy ', '  gEORge HARRisOn     ', '   rInGo STarr   ']\n",
    "\n",
    "clean_beatles = clean_names(messy_beatles)\n",
    "print(clean_beatles)"
   ]
  },
  {
   "cell_type": "markdown",
   "metadata": {},
   "source": [
    "#### In-Class Exercise 2"
   ]
  },
  {
   "cell_type": "markdown",
   "metadata": {},
   "source": [
    "Create a function that takes in the list of tuples ('city', 'country') and a country name and returns a list of the cities in that country"
   ]
  },
  {
   "cell_type": "code",
   "execution_count": 15,
   "metadata": {},
   "outputs": [],
   "source": [
    "cities = [\n",
    "    (\"London\", \"England\"), \n",
    "    (\"Manchester\", \"England\"), \n",
    "    (\"Barcelona\", \"Spain\"), \n",
    "    (\"Madrid\", \"Spain\"), \n",
    "    (\"Rome\", \"Italy\"), \n",
    "    (\"Florence\", \"Italy\")\n",
    "]\n"
   ]
  },
  {
   "cell_type": "code",
   "execution_count": 53,
   "metadata": {},
   "outputs": [
    {
     "name": "stdout",
     "output_type": "stream",
     "text": [
      "['Barcelona', 'Madrid']\n"
     ]
    }
   ],
   "source": [
    "def get_cities_by_country(cities_list, country_name):\n",
    "    matching_cities = []\n",
    "    for city, country in cities_list:\n",
    "        if country == country_name:\n",
    "            matching_cities.append(city)\n",
    "    return matching_cities\n",
    "\n",
    "cities = [\n",
    "    (\"London\", \"England\"), \n",
    "    (\"Manchester\", \"England\"), \n",
    "    (\"Barcelona\", \"Spain\"), \n",
    "    (\"Madrid\", \"Spain\"), \n",
    "    (\"Rome\", \"Italy\"), \n",
    "    (\"Florence\", \"Italy\")\n",
    "]\n",
    "\n",
    "# Example usage:\n",
    "print(get_cities_by_country(cities, \"Spain\"))  # Output: ['Barcelona', 'Madrid']\n"
   ]
  },
  {
   "cell_type": "code",
   "execution_count": null,
   "metadata": {},
   "outputs": [],
   "source": []
  },
  {
   "cell_type": "code",
   "execution_count": null,
   "metadata": {},
   "outputs": [],
   "source": []
  },
  {
   "cell_type": "markdown",
   "metadata": {},
   "source": [
    "#### Docstrings"
   ]
  },
  {
   "cell_type": "code",
   "execution_count": 59,
   "metadata": {},
   "outputs": [
    {
     "ename": "NameError",
     "evalue": "name 'cities_in_country' is not defined",
     "output_type": "error",
     "traceback": [
      "\u001b[0;31m---------------------------------------------------------------------------\u001b[0m",
      "\u001b[0;31mNameError\u001b[0m                                 Traceback (most recent call last)",
      "Cell \u001b[0;32mIn[59], line 1\u001b[0m\n\u001b[0;32m----> 1\u001b[0m help(\u001b[43mcities_in_country\u001b[49m)\n",
      "\u001b[0;31mNameError\u001b[0m: name 'cities_in_country' is not defined"
     ]
    }
   ],
   "source": [
    "help(cities_in_country)\n"
   ]
  },
  {
   "cell_type": "code",
   "execution_count": 55,
   "metadata": {
    "scrolled": true
   },
   "outputs": [
    {
     "name": "stdout",
     "output_type": "stream",
     "text": [
      "Help on built-in function max in module builtins:\n",
      "\n",
      "max(...)\n",
      "    max(iterable, *[, default=obj, key=func]) -> value\n",
      "    max(arg1, arg2, *args, *[, key=func]) -> value\n",
      "    \n",
      "    With a single iterable argument, return its biggest item. The\n",
      "    default keyword-only argument specifies an object to return if\n",
      "    the provided iterable is empty.\n",
      "    With two or more arguments, return the largest argument.\n",
      "\n"
     ]
    }
   ],
   "source": [
    "help(max)"
   ]
  },
  {
   "cell_type": "code",
   "execution_count": 45,
   "metadata": {
    "scrolled": true
   },
   "outputs": [
    {
     "name": "stdout",
     "output_type": "stream",
     "text": [
      "Help on built-in function len in module builtins:\n",
      "\n",
      "len(obj, /)\n",
      "    Return the number of items in a container.\n",
      "\n"
     ]
    }
   ],
   "source": [
    "help(len)"
   ]
  },
  {
   "cell_type": "code",
   "execution_count": null,
   "metadata": {},
   "outputs": [],
   "source": [
    "def ad_numms"
   ]
  },
  {
   "cell_type": "code",
   "execution_count": null,
   "metadata": {},
   "outputs": [],
   "source": [
    "###White Board Approah##\n",
    "Write a function that brings in a word and returns that word with all the vowels removed. Y is NOT considered as a vowel the starting word eill contain upper and lower case letters/\n",
    "\n",
    "\n",
    "#1. What are the input(s)?\n",
    "#2. What are the output(s)?\n",
    "#3. Consider constraints and edge cases\n",
    "#4. Write out steps logically (No Python)\n",
    "#5. Pseudocode\n",
    "#6. Code\n",
    "\n",
    "\n"
   ]
  },
  {
   "cell_type": "code",
   "execution_count": null,
   "metadata": {},
   "outputs": [],
   "source": [
    "#1. Input(s)-word-type:str\n",
    "#2. Output(s-wordd with vowels removed- type: str\n",
    "#3. Constraints/Edge Cases- \"Y\"not a vowel-consider both upper and lower case letter.\n",
    "#4. Look at each letter of the word, if the letter is a vowel, skip over the letter, if not a vowel, keep it,Once finished  #checking \n",
    "#every Letter, return the word\n",
    "#5 checking every Letter, return the word.\n",
    "\n",
    "# 5. Pseudocode\n",
    "#Define a function that accepts a word prameter\n",
    "def remove_vowels(word):\n",
    "  #Create a new sting to build the vowel-less word\n",
    "vowels={'a','e','i','o','u'}\n",
    "    #Create a data collection of the vowels= 'aeiou\"\n",
    "    #Loop through each Letter of the word.\n",
    "     for letter in word:\n",
    "    #if letter is in the collection of vowels\n",
    "    if letterlower() not in vowels:\n",
    "    #if letter not in the collection of vowels\n",
    "    #add the Letter to the new vowel-less word\n",
    "     new_string += letter\n",
    "    #After Looping thoiugh each Letter, return the new vowel-less word.]]\n",
    "    return new_string"
   ]
  },
  {
   "cell_type": "code",
   "execution_count": 4,
   "metadata": {},
   "outputs": [
    {
     "name": "stdout",
     "output_type": "stream",
     "text": [
      "HLL WRLD\n"
     ]
    }
   ],
   "source": [
    "def remove_vowels(s):\n",
    "    vowels = ['a', 'e', 'i', 'o', 'u', 'A', 'E', 'I', 'O', 'U']\n",
    "    result = ''\n",
    "    for char in s:\n",
    "        if char not in vowels:\n",
    "            result += char\n",
    "    return result\n",
    "s = 'HELLO WORLD'\n",
    "result = remove_vowels(s)\n",
    "print(result) "
   ]
  },
  {
   "cell_type": "code",
   "execution_count": null,
   "metadata": {},
   "outputs": [],
   "source": [
    "\n"
   ]
  }
 ],
 "metadata": {
  "kernelspec": {
   "display_name": "Python 3 (ipykernel)",
   "language": "python",
   "name": "python3"
  },
  "language_info": {
   "codemirror_mode": {
    "name": "ipython",
    "version": 3
   },
   "file_extension": ".py",
   "mimetype": "text/x-python",
   "name": "python",
   "nbconvert_exporter": "python",
   "pygments_lexer": "ipython3",
   "version": "3.10.9"
  }
 },
 "nbformat": 4,
 "nbformat_minor": 2
}
